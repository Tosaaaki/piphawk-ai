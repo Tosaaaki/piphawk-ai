{
 "cells": [
  {
   "cell_type": "markdown",
   "metadata": {},
   "source": [
    "# Mode scoring demo\n",
    "簡易的なスコア計算の確認用ノートブックです。"
   ]
  },
  {
   "cell_type": "code",
   "execution_count": null,
   "metadata": {},
   "outputs": [],
   "source": [
    "import yaml\n",
    "from signals.composite_mode import decide_trade_mode_detail\n",
    "from signals.mode_params import reload_params\n",
    "reload_params()\n",
    "\n",
    "ind_m5 = {\n",
    "    'atr_pct': [0.005],\n",
    "    'adx': [30],\n",
    "    'ema_slope': [0.2],\n",
    "}\n",
    "ind_m1 = {\n",
    "    'atr_pct': [0.003],\n",
    "    'adx': [25],\n",
    "}\n",
    "data = {'M5': ind_m5, 'M1': ind_m1}\n",
    "mode, score, reasons = decide_trade_mode_detail({'M1': ind_m1, **ind_m5})\n",
    "print(mode, score, reasons)"
   ]
  }
 ],
 "metadata": {
  "kernelspec": {
   "display_name": "Python 3",
   "language": "python",
   "name": "python3"
  },
  "language_info": {
   "name": "python"
  }
 },
 "nbformat": 4,
 "nbformat_minor": 5
}
